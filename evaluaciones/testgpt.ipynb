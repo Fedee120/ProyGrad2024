{
 "cells": [
  {
   "cell_type": "code",
   "execution_count": 2,
   "metadata": {},
   "outputs": [],
   "source": [
    "from openai import OpenAI\n",
    "import jsonlines\n",
    "import pandas as pd\n",
    "from sklearn.metrics import accuracy_score, precision_score, recall_score, f1_score\n",
    "\n",
    "from dotenv import load_dotenv, find_dotenv\n",
    "import os\n",
    "_ = load_dotenv(find_dotenv())\n",
    " \n",
    "OPEN_AI_API_KEY  = os.getenv('OPENAI_API_KEY')\n",
    "\n",
    "# Leer el archivo JSONL\n",
    "input_file = 'wnli/wnli-dev-es.jsonl'\n",
    "results = []\n",
    "\n",
    "with jsonlines.open(input_file) as reader:\n",
    "    for obj in reader:\n",
    "        prompt = obj['prompt']\n",
    "        true_label = obj['referenceResponse']\n",
    "\n",
    "        client = OpenAI(api_key=OPEN_AI_API_KEY)\n",
    "\n",
    "        response = client.chat.completions.create(\n",
    "            model=\"gpt-4o\",\n",
    "            messages= [{\n",
    "                    \"role\": \"user\", \n",
    "                    \"content\": \"{}\".format(prompt)\n",
    "                }],\n",
    "        )\n",
    "\n",
    "        predicted_label = response.choices[0].message.content\n",
    "\n",
    "        # Guardar el prompt, la categoría verdadera y la categoría predicha\n",
    "        results.append({\n",
    "            'prompt': prompt,\n",
    "            'true_label': true_label,\n",
    "            'predicted_label': predicted_label\n",
    "        })\n",
    "\n",
    "# Convertir resultados a DataFrame\n",
    "df_results = pd.DataFrame(results)\n",
    "\n",
    "# Guardar los resultados en un archivo CSV\n",
    "df_results.to_csv('evaluation_resultsgpt4o.csv', index=False)"
   ]
  }
 ],
 "metadata": {
  "kernelspec": {
   "display_name": "Python 3",
   "language": "python",
   "name": "python3"
  },
  "language_info": {
   "codemirror_mode": {
    "name": "ipython",
    "version": 3
   },
   "file_extension": ".py",
   "mimetype": "text/x-python",
   "name": "python",
   "nbconvert_exporter": "python",
   "pygments_lexer": "ipython3",
   "version": "3.10.0"
  }
 },
 "nbformat": 4,
 "nbformat_minor": 2
}
