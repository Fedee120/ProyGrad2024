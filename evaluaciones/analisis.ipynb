{
 "cells": [
  {
   "cell_type": "code",
   "execution_count": 48,
   "metadata": {},
   "outputs": [
    {
     "data": {
      "text/html": [
       "<div>\n",
       "<style scoped>\n",
       "    .dataframe tbody tr th:only-of-type {\n",
       "        vertical-align: middle;\n",
       "    }\n",
       "\n",
       "    .dataframe tbody tr th {\n",
       "        vertical-align: top;\n",
       "    }\n",
       "\n",
       "    .dataframe thead th {\n",
       "        text-align: right;\n",
       "    }\n",
       "</style>\n",
       "<table border=\"1\" class=\"dataframe\">\n",
       "  <thead>\n",
       "    <tr style=\"text-align: right;\">\n",
       "      <th></th>\n",
       "      <th>prompt</th>\n",
       "      <th>true_label</th>\n",
       "      <th>predicted_label</th>\n",
       "    </tr>\n",
       "  </thead>\n",
       "  <tbody>\n",
       "    <tr>\n",
       "      <th>0</th>\n",
       "      <td>Basado en la oración: 'El desagüe se ha atasca...</td>\n",
       "      <td>True</td>\n",
       "      <td>False.\\n\\nLa oración correcta de</td>\n",
       "    </tr>\n",
       "    <tr>\n",
       "      <th>1</th>\n",
       "      <td>Basado en la oración: 'Jane llamó a la puerta ...</td>\n",
       "      <td>False</td>\n",
       "      <td>True\\n\\nLa oración 'Jane llam</td>\n",
       "    </tr>\n",
       "    <tr>\n",
       "      <th>2</th>\n",
       "      <td>Basado en la oración: 'Beth no se enfadó con S...</td>\n",
       "      <td>True</td>\n",
       "      <td>False.\\n\\nThe phrase \"se esperó</td>\n",
       "    </tr>\n",
       "    <tr>\n",
       "      <th>3</th>\n",
       "      <td>Basado en la oración: 'Nadie entra en Facebook...</td>\n",
       "      <td>True</td>\n",
       "      <td>False.\\n\\nThe original sentence states that \"</td>\n",
       "    </tr>\n",
       "    <tr>\n",
       "      <th>4</th>\n",
       "      <td>Basado en la oración: 'El hombre no pudo levan...</td>\n",
       "      <td>False</td>\n",
       "      <td>True\\n\\nThe sentence 'El hijo pes</td>\n",
       "    </tr>\n",
       "  </tbody>\n",
       "</table>\n",
       "</div>"
      ],
      "text/plain": [
       "                                              prompt  true_label  \\\n",
       "0  Basado en la oración: 'El desagüe se ha atasca...        True   \n",
       "1  Basado en la oración: 'Jane llamó a la puerta ...       False   \n",
       "2  Basado en la oración: 'Beth no se enfadó con S...        True   \n",
       "3  Basado en la oración: 'Nadie entra en Facebook...        True   \n",
       "4  Basado en la oración: 'El hombre no pudo levan...       False   \n",
       "\n",
       "                                 predicted_label  \n",
       "0               False.\\n\\nLa oración correcta de  \n",
       "1                  True\\n\\nLa oración 'Jane llam  \n",
       "2                False.\\n\\nThe phrase \"se esperó  \n",
       "3  False.\\n\\nThe original sentence states that \"  \n",
       "4              True\\n\\nThe sentence 'El hijo pes  "
      ]
     },
     "execution_count": 48,
     "metadata": {},
     "output_type": "execute_result"
    }
   ],
   "source": [
    "import pandas as pd\n",
    "\n",
    "df = pd.read_csv('evaluation_resultsmixtral8x7b.csv')\n",
    "\n",
    "df.head()"
   ]
  },
  {
   "cell_type": "code",
   "execution_count": 49,
   "metadata": {},
   "outputs": [
    {
     "data": {
      "text/html": [
       "<div>\n",
       "<style scoped>\n",
       "    .dataframe tbody tr th:only-of-type {\n",
       "        vertical-align: middle;\n",
       "    }\n",
       "\n",
       "    .dataframe tbody tr th {\n",
       "        vertical-align: top;\n",
       "    }\n",
       "\n",
       "    .dataframe thead th {\n",
       "        text-align: right;\n",
       "    }\n",
       "</style>\n",
       "<table border=\"1\" class=\"dataframe\">\n",
       "  <thead>\n",
       "    <tr style=\"text-align: right;\">\n",
       "      <th></th>\n",
       "      <th>prompt</th>\n",
       "      <th>true_label</th>\n",
       "      <th>predicted_label</th>\n",
       "    </tr>\n",
       "  </thead>\n",
       "  <tbody>\n",
       "    <tr>\n",
       "      <th>count</th>\n",
       "      <td>71</td>\n",
       "      <td>71</td>\n",
       "      <td>71</td>\n",
       "    </tr>\n",
       "    <tr>\n",
       "      <th>unique</th>\n",
       "      <td>70</td>\n",
       "      <td>2</td>\n",
       "      <td>70</td>\n",
       "    </tr>\n",
       "    <tr>\n",
       "      <th>top</th>\n",
       "      <td>Basado en la oración: 'Estaban retransmitiendo...</td>\n",
       "      <td>False</td>\n",
       "      <td>False.\\n\\nLa oración correcta de</td>\n",
       "    </tr>\n",
       "    <tr>\n",
       "      <th>freq</th>\n",
       "      <td>2</td>\n",
       "      <td>40</td>\n",
       "      <td>2</td>\n",
       "    </tr>\n",
       "  </tbody>\n",
       "</table>\n",
       "</div>"
      ],
      "text/plain": [
       "                                                   prompt true_label  \\\n",
       "count                                                  71         71   \n",
       "unique                                                 70          2   \n",
       "top     Basado en la oración: 'Estaban retransmitiendo...      False   \n",
       "freq                                                    2         40   \n",
       "\n",
       "                         predicted_label  \n",
       "count                                 71  \n",
       "unique                                70  \n",
       "top     False.\\n\\nLa oración correcta de  \n",
       "freq                                   2  "
      ]
     },
     "execution_count": 49,
     "metadata": {},
     "output_type": "execute_result"
    }
   ],
   "source": [
    "df.describe()"
   ]
  },
  {
   "cell_type": "code",
   "execution_count": 50,
   "metadata": {},
   "outputs": [
    {
     "name": "stdout",
     "output_type": "stream",
     "text": [
      "<class 'pandas.core.frame.DataFrame'>\n",
      "RangeIndex: 71 entries, 0 to 70\n",
      "Data columns (total 3 columns):\n",
      " #   Column           Non-Null Count  Dtype \n",
      "---  ------           --------------  ----- \n",
      " 0   prompt           71 non-null     object\n",
      " 1   true_label       71 non-null     bool  \n",
      " 2   predicted_label  71 non-null     object\n",
      "dtypes: bool(1), object(2)\n",
      "memory usage: 1.3+ KB\n"
     ]
    }
   ],
   "source": [
    "df.info()"
   ]
  },
  {
   "cell_type": "code",
   "execution_count": 51,
   "metadata": {},
   "outputs": [
    {
     "data": {
      "text/html": [
       "<div>\n",
       "<style scoped>\n",
       "    .dataframe tbody tr th:only-of-type {\n",
       "        vertical-align: middle;\n",
       "    }\n",
       "\n",
       "    .dataframe tbody tr th {\n",
       "        vertical-align: top;\n",
       "    }\n",
       "\n",
       "    .dataframe thead th {\n",
       "        text-align: right;\n",
       "    }\n",
       "</style>\n",
       "<table border=\"1\" class=\"dataframe\">\n",
       "  <thead>\n",
       "    <tr style=\"text-align: right;\">\n",
       "      <th></th>\n",
       "      <th>true_label</th>\n",
       "      <th>predicted_label</th>\n",
       "    </tr>\n",
       "  </thead>\n",
       "  <tbody>\n",
       "    <tr>\n",
       "      <th>0</th>\n",
       "      <td>True</td>\n",
       "      <td>false.\\n\\nla oración correcta de</td>\n",
       "    </tr>\n",
       "    <tr>\n",
       "      <th>1</th>\n",
       "      <td>False</td>\n",
       "      <td>true\\n\\nla oración 'jane llam</td>\n",
       "    </tr>\n",
       "    <tr>\n",
       "      <th>2</th>\n",
       "      <td>True</td>\n",
       "      <td>false.\\n\\nthe phrase \"se esperó</td>\n",
       "    </tr>\n",
       "    <tr>\n",
       "      <th>3</th>\n",
       "      <td>True</td>\n",
       "      <td>false.\\n\\nthe original sentence states that \"</td>\n",
       "    </tr>\n",
       "    <tr>\n",
       "      <th>4</th>\n",
       "      <td>False</td>\n",
       "      <td>true\\n\\nthe sentence 'el hijo pes</td>\n",
       "    </tr>\n",
       "  </tbody>\n",
       "</table>\n",
       "</div>"
      ],
      "text/plain": [
       "   true_label                                predicted_label\n",
       "0        True               false.\\n\\nla oración correcta de\n",
       "1       False                  true\\n\\nla oración 'jane llam\n",
       "2        True                false.\\n\\nthe phrase \"se esperó\n",
       "3        True  false.\\n\\nthe original sentence states that \"\n",
       "4       False              true\\n\\nthe sentence 'el hijo pes"
      ]
     },
     "execution_count": 51,
     "metadata": {},
     "output_type": "execute_result"
    }
   ],
   "source": [
    "df = df.loc[:, [\"true_label\", \"predicted_label\"]]\n",
    "\n",
    "df['predicted_label'] = df['predicted_label'].apply(lambda x: x.lower().strip())\n",
    "\n",
    "df.head()"
   ]
  },
  {
   "cell_type": "code",
   "execution_count": 52,
   "metadata": {},
   "outputs": [
    {
     "data": {
      "text/html": [
       "<div>\n",
       "<style scoped>\n",
       "    .dataframe tbody tr th:only-of-type {\n",
       "        vertical-align: middle;\n",
       "    }\n",
       "\n",
       "    .dataframe tbody tr th {\n",
       "        vertical-align: top;\n",
       "    }\n",
       "\n",
       "    .dataframe thead th {\n",
       "        text-align: right;\n",
       "    }\n",
       "</style>\n",
       "<table border=\"1\" class=\"dataframe\">\n",
       "  <thead>\n",
       "    <tr style=\"text-align: right;\">\n",
       "      <th></th>\n",
       "      <th>true_label</th>\n",
       "      <th>predicted_label</th>\n",
       "    </tr>\n",
       "  </thead>\n",
       "  <tbody>\n",
       "    <tr>\n",
       "      <th>0</th>\n",
       "      <td>True</td>\n",
       "      <td>False</td>\n",
       "    </tr>\n",
       "    <tr>\n",
       "      <th>1</th>\n",
       "      <td>False</td>\n",
       "      <td>True</td>\n",
       "    </tr>\n",
       "    <tr>\n",
       "      <th>2</th>\n",
       "      <td>True</td>\n",
       "      <td>False</td>\n",
       "    </tr>\n",
       "    <tr>\n",
       "      <th>3</th>\n",
       "      <td>True</td>\n",
       "      <td>False</td>\n",
       "    </tr>\n",
       "    <tr>\n",
       "      <th>4</th>\n",
       "      <td>False</td>\n",
       "      <td>True</td>\n",
       "    </tr>\n",
       "  </tbody>\n",
       "</table>\n",
       "</div>"
      ],
      "text/plain": [
       "   true_label  predicted_label\n",
       "0        True            False\n",
       "1       False             True\n",
       "2        True            False\n",
       "3        True            False\n",
       "4       False             True"
      ]
     },
     "execution_count": 52,
     "metadata": {},
     "output_type": "execute_result"
    }
   ],
   "source": [
    "import re\n",
    "def extract_boolean(text):\n",
    "    pattern = re.compile(r'\\btrue\\b', re.IGNORECASE)\n",
    "    if pattern.search(text):\n",
    "        return True\n",
    "    pattern = re.compile(r'\\bfalse\\b', re.IGNORECASE)\n",
    "    if pattern.search(text):\n",
    "        return False\n",
    "    return None\n",
    "\n",
    "# Aplicar la función al dataframe\n",
    "df['predicted_label'] = df['predicted_label'].apply(extract_boolean)\n",
    "df['predicted_label'] = df['predicted_label'].astype(bool)\n",
    "\n",
    "df.head()"
   ]
  },
  {
   "cell_type": "code",
   "execution_count": 53,
   "metadata": {},
   "outputs": [
    {
     "data": {
      "text/plain": [
       "true_label         0\n",
       "predicted_label    0\n",
       "dtype: int64"
      ]
     },
     "execution_count": 53,
     "metadata": {},
     "output_type": "execute_result"
    }
   ],
   "source": [
    "df.isna().sum()"
   ]
  },
  {
   "cell_type": "code",
   "execution_count": 54,
   "metadata": {},
   "outputs": [],
   "source": [
    "df.dropna(inplace=True)"
   ]
  },
  {
   "cell_type": "code",
   "execution_count": 55,
   "metadata": {},
   "outputs": [
    {
     "data": {
      "text/plain": [
       "(0.49295774647887325, 0.3870967741935484, 0.4)"
      ]
     },
     "execution_count": 55,
     "metadata": {},
     "output_type": "execute_result"
    }
   ],
   "source": [
    "from sklearn.metrics import accuracy_score, recall_score, f1_score\n",
    "\n",
    "true_labels = df['true_label']\n",
    "predicted_labels = df['predicted_label']\n",
    "\n",
    "accuracy = accuracy_score(true_labels, predicted_labels)\n",
    "recall = recall_score(true_labels, predicted_labels)\n",
    "f1 = f1_score(true_labels, predicted_labels)\n",
    "\n",
    "accuracy, recall, f1\n"
   ]
  },
  {
   "cell_type": "code",
   "execution_count": 69,
   "metadata": {},
   "outputs": [
    {
     "name": "stdout",
     "output_type": "stream",
     "text": [
      "Accuracy: 0.43661971830985913\n",
      "Recall: 0.22580645161290322\n",
      "F1 Score: 0.25925925925925924\n"
     ]
    }
   ],
   "source": [
    "import jsonlines\n",
    "import pandas as pd\n",
    "from sklearn.metrics import accuracy_score, recall_score, f1_score\n",
    "\n",
    "# Load JSONL file into a DataFrame\n",
    "data = []\n",
    "with jsonlines.open('claude-v2.jsonl') as reader:\n",
    "    for obj in reader:\n",
    "        prompt = obj['inputRecord']['prompt']\n",
    "        reference_response = obj['inputRecord']['referenceResponse'].lower().strip()  # Convert to lower and strip whitespaces\n",
    "        model_response = obj['modelResponses'][0]['response'].lower().strip()  # Convert to lower and strip whitespaces\n",
    "        \n",
    "        # Append only if both reference_response and model_response are not missing\n",
    "        if reference_response and model_response:\n",
    "            data.append({'prompt': prompt, 'reference_response': reference_response, 'model_response': model_response})\n",
    "\n",
    "df = pd.DataFrame(data)\n",
    "\n",
    "# Function to map responses, handling unexpected or malformed inputs\n",
    "def map_response(response):\n",
    "    response = response.strip().lower()  # Clean and convert to lowercase\n",
    "    pattern = re.compile(r'\\btrue\\b', re.IGNORECASE)\n",
    "    if pattern.search(response):\n",
    "        return True\n",
    "    pattern = re.compile(r'\\bfalse\\b', re.IGNORECASE)\n",
    "    if pattern.search(response):\n",
    "        return False\n",
    "    return None\n",
    "\n",
    "# Apply the mapping function\n",
    "df['reference_response'] = df['reference_response'].apply(map_response)\n",
    "df['model_response'] = df['model_response'].apply(map_response)\n",
    "\n",
    "# Drop rows where either response is None (i.e., was not 'true' or 'false')\n",
    "df.dropna(subset=['reference_response', 'model_response'], inplace=True)\n",
    "\n",
    "# Ensure types are boolean after dropping NAs\n",
    "df['reference_response'] = df['reference_response'].astype(bool)\n",
    "df['model_response'] = df['model_response'].astype(bool)\n",
    "\n",
    "# Calculate metrics\n",
    "accuracy = accuracy_score(df['reference_response'], df['model_response'])\n",
    "recall = recall_score(df['reference_response'], df['model_response'])\n",
    "f1 = f1_score(df['reference_response'], df['model_response'])\n",
    "\n",
    "# Print the results\n",
    "print(f'Accuracy: {accuracy}')\n",
    "print(f'Recall: {recall}')\n",
    "print(f'F1 Score: {f1}')\n"
   ]
  }
 ],
 "metadata": {
  "kernelspec": {
   "display_name": "Python 3",
   "language": "python",
   "name": "python3"
  },
  "language_info": {
   "codemirror_mode": {
    "name": "ipython",
    "version": 3
   },
   "file_extension": ".py",
   "mimetype": "text/x-python",
   "name": "python",
   "nbconvert_exporter": "python",
   "pygments_lexer": "ipython3",
   "version": "3.10.0"
  }
 },
 "nbformat": 4,
 "nbformat_minor": 2
}
