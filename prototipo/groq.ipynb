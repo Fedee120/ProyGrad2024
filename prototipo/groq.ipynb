{
 "cells": [
  {
   "cell_type": "code",
   "execution_count": 32,
   "metadata": {},
   "outputs": [
    {
     "name": "stdout",
     "output_type": "stream",
     "text": [
      "¡Interesante pregunta! Si fuera una empanada, sería una empanada de pollo y olivas. Me encanta la combinación de sabores y texturas que ofrece esta variedad de empanada. El pollo tierno y jugoso, las aceitunas con un toque salado y ligeramente amargas... ¡mmm, delicioso! Además, esta combinación es muy popular en Argentina, país al que estoy muy unido por mi pasión por el fútbol y la cultura latinoamericana.\n"
     ]
    }
   ],
   "source": [
    "from groq import Groq\n",
    "\n",
    "client = Groq(\n",
    "    api_key=\"\",\n",
    ")\n",
    "\n",
    "chat_completion = client.chat.completions.create(\n",
    "    messages=[\n",
    "        {\n",
    "            \"role\": \"user\",\n",
    "            \"content\": \"si fueras un tipo de empanada, de cual serias?\",\n",
    "        }\n",
    "    ],\n",
    "    model=\"mixtral-8x7b-32768\",\n",
    ")\n",
    "\n",
    "print(chat_completion.choices[0].message.content)"
   ]
  },
  {
   "cell_type": "markdown",
   "metadata": {},
   "source": [
    "## Usando langchain para chat completion"
   ]
  },
  {
   "cell_type": "code",
   "execution_count": 33,
   "metadata": {},
   "outputs": [
    {
     "name": "stderr",
     "output_type": "stream",
     "text": [
      "No sentence-transformers model found with name bert-base-multilingual-uncased. Creating a new one with MEAN pooling.\n"
     ]
    }
   ],
   "source": [
    "from langchain_community.embeddings import HuggingFaceEmbeddings\n",
    "from langchain_community.vectorstores import FAISS\n",
    "\n",
    "embeddings = HuggingFaceEmbeddings(model_name=\"bert-base-multilingual-uncased\")\n",
    "\n",
    "# Fragmentos de texto para indexar y estructura para mapear índices a textos\n",
    "text_snippets = [\n",
    "    \"El uso de IA generativa en la educación plantea preocupaciones sobre la integridad académica, ya que los estudiantes podrían usar estas herramientas para generar trabajos sin realmente comprender el contenido, socavando el proceso de aprendizaje.\",\n",
    "    \"La dependencia de la IA generativa en la educación puede conducir a la pérdida de habilidades críticas de pensamiento en los estudiantes, ya que confían demasiado en la tecnología para resolver problemas y generar contenido.\",\n",
    "    \"Existe el riesgo de que la IA generativa propague sesgos y desinformación en materiales educativos, lo cual podría moldear inadvertidamente perspectivas y entendimientos erróneos entre los estudiantes.\",\n",
    "    \"La personalización extrema del aprendizaje mediante IA generativa podría llevar a la creación de burbujas de filtro educativas, donde los estudiantes solo se exponen a ideas y conceptos que se alinean con sus conocimientos previos o preferencias.\",\n",
    "    \"El acceso desigual a las herramientas de IA generativa podría exacerbar la brecha educativa entre los estudiantes de diferentes entornos socioeconómicos, limitando las oportunidades para aquellos con menos recursos.\",\n",
    "    \"La incorporación de IA generativa en el currículo educativo requiere de una revisión constante para asegurar que los contenidos generados sean precisos y estén actualizados, representando un desafío logístico y financiero para las instituciones educativas.\",\n",
    "    \"El uso de tecnologías de IA generativa en la educación podría transformar positivamente la manera en que se diseñan los materiales didácticos, permitiendo una mayor personalización y adaptabilidad a los estilos de aprendizaje de cada estudiante.\",\n",
    "    \"La implementación de IA generativa en los entornos educativos podría ofrecer oportunidades innovadoras para el aprendizaje interactivo y lúdico, aunque esto no aborda directamente los riesgos asociados.\",\n",
    "    \"El desarrollo de nuevas tecnologías de IA generativa en el sector financiero ha llevado a una automatización eficiente de tareas y análisis de datos, lo cual no tiene relación directa con los riesgos en la educación.\",\n",
    "    \"Las innovaciones en la agricultura de precisión mediante el uso de IA generativa han mejorado significativamente los rendimientos de los cultivos y la gestión de recursos, un tema completamente ajeno a los riesgos de la IA en la educación.\"\n",
    "]\n",
    "\n",
    "vector_store = FAISS.from_texts(text_snippets, embeddings)"
   ]
  },
  {
   "cell_type": "code",
   "execution_count": 41,
   "metadata": {},
   "outputs": [],
   "source": [
    "from langchain_core.prompts import ChatPromptTemplate\n",
    "from langchain_groq import ChatGroq\n",
    "\n",
    "chat = ChatGroq(temperature=0, groq_api_key=\"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\", model_name=\"mixtral-8x7b-32768\")\n",
    "\n",
    "system = \"\"\" Eres un chatbot educativo que enseña a docentes y estudiantes sobre los riesgos y beneficios de usar inteligencia artificial generativa en el aula. Siempre contestas en español.\"\"\"\n",
    "human = \"\"\" Responde la pregunta del usuario basandote exclusivamente en la informacion provista en el siguiente contexto, si no hay informacion relevante en el contexto, debes indicarlo y no contestar usando tus conocimientos.\n",
    "<contexto>\n",
    "{context}\n",
    "</contexto>\n",
    "\n",
    "Pregunta: {question}\"\"\"\n",
    "prompt = ChatPromptTemplate.from_messages([(\"system\", system), (\"human\", human)])\n",
    "\n",
    "# mixtral_chain = prompt | chat\n",
    "# mixtral_chain.invoke({\"text\": \"Hola, soy un docente. Como puedo saber si un estudiante esta usando chatGPT para hacer sus tareas?\"})"
   ]
  },
  {
   "cell_type": "code",
   "execution_count": 30,
   "metadata": {},
   "outputs": [
    {
     "name": "stdout",
     "output_type": "stream",
     "text": [
      "[(Document(page_content='El uso de IA generativa en la educación plantea preocupaciones sobre la integridad académica, ya que los estudiantes podrían usar estas herramientas para generar trabajos sin realmente comprender el contenido, socavando el proceso de aprendizaje.'), 14.711649), (Document(page_content='La implementación de IA generativa en los entornos educativos podría ofrecer oportunidades innovadoras para el aprendizaje interactivo y lúdico, aunque esto no aborda directamente los riesgos asociados.'), 16.89244), (Document(page_content='La dependencia de la IA generativa en la educación puede conducir a la pérdida de habilidades críticas de pensamiento en los estudiantes, ya que confían demasiado en la tecnología para resolver problemas y generar contenido.'), 16.980066)]\n"
     ]
    }
   ],
   "source": [
    "query = \"¿Cuáles son los principales riesgos asociados con el uso de la IA generativa en la educación y cómo pueden estos impactar el proceso de enseñanza-aprendizaje?\"\n",
    "docs = vector_store.similarity_search_with_score(query, k=3)\n",
    "print(docs)"
   ]
  },
  {
   "cell_type": "code",
   "execution_count": 43,
   "metadata": {},
   "outputs": [],
   "source": [
    "from langchain.chains import create_retrieval_chain\n",
    "from langchain.chains.combine_documents import create_stuff_documents_chain\n",
    "\n",
    "document_chain = create_stuff_documents_chain(chat, prompt)\n",
    "retriever = vector_store.as_retriever()\n",
    "\n",
    "retrieval_chain = create_retrieval_chain(retriever, document_chain)"
   ]
  },
  {
   "cell_type": "code",
   "execution_count": 35,
   "metadata": {},
   "outputs": [],
   "source": [
    "def format_docs(docs):\n",
    "    return \"\\n\\n\".join(doc.page_content for doc in docs)"
   ]
  },
  {
   "cell_type": "code",
   "execution_count": 44,
   "metadata": {},
   "outputs": [],
   "source": [
    "from langchain_core.output_parsers import StrOutputParser\n",
    "from langchain_core.runnables import RunnablePassthrough\n",
    "\n",
    "rag_chain = (\n",
    "    {\"context\": retriever | format_docs, \"question\": RunnablePassthrough()}\n",
    "    | prompt\n",
    "    | chat\n",
    "    | StrOutputParser()\n",
    ")"
   ]
  },
  {
   "cell_type": "code",
   "execution_count": 45,
   "metadata": {},
   "outputs": [
    {
     "data": {
      "text/plain": [
       "'Los principales riesgos asociados con el uso de la IA generativa en la educación incluyen preocupaciones sobre la integridad académica, la pérdida de habilidades críticas de pensamiento en los estudiantes y la dependencia excesiva de la tecnología. Estos riesgos pueden impactar negativamente el proceso de enseñanza-aprendizaje, ya que los estudiantes podrían usar estas herramientas para generar trabajos sin realmente comprender el contenido, socavando así el proceso de aprendizaje. Además, confiar demasiado en la IA para resolver problemas y generar contenido puede impedir que los estudiantes desarrollen habilidades críticas de pensamiento y resolución de problemas. Sin embargo, el contexto no proporciona información sobre posibles riesgos adicionales ni sobre cómo abordar estos desafíos de manera efectiva.'"
      ]
     },
     "execution_count": 45,
     "metadata": {},
     "output_type": "execute_result"
    }
   ],
   "source": [
    "rag_chain.invoke(query)"
   ]
  }
 ],
 "metadata": {
  "kernelspec": {
   "display_name": "Python 3",
   "language": "python",
   "name": "python3"
  },
  "language_info": {
   "codemirror_mode": {
    "name": "ipython",
    "version": 3
   },
   "file_extension": ".py",
   "mimetype": "text/x-python",
   "name": "python",
   "nbconvert_exporter": "python",
   "pygments_lexer": "ipython3",
   "version": "3.10.0"
  }
 },
 "nbformat": 4,
 "nbformat_minor": 2
}
